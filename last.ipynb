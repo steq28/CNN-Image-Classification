{
 "cells": [
  {
   "cell_type": "code",
   "execution_count": null,
   "metadata": {
    "execution": {
     "iopub.execute_input": "2024-10-30T20:48:55.800112Z",
     "iopub.status.busy": "2024-10-30T20:48:55.799669Z",
     "iopub.status.idle": "2024-10-30T20:48:55.806022Z",
     "shell.execute_reply": "2024-10-30T20:48:55.805087Z",
     "shell.execute_reply.started": "2024-10-30T20:48:55.800070Z"
    },
    "id": "wYrts4fcRUQ5",
    "trusted": true
   },
   "outputs": [],
   "source": [
    "import torch\n",
    "import torchvision\n",
    "import torchvision.transforms as transforms\n",
    "import torch.nn as nn\n",
    "import matplotlib.pyplot as plt\n",
    "import numpy as np\n",
    "import torchvision.datasets as datasets\n",
    "import torch.optim as optim\n",
    "import torch.nn.functional as F\n",
    "from math import floor"
   ]
  },
  {
   "cell_type": "code",
   "execution_count": null,
   "metadata": {
    "colab": {
     "base_uri": "https://localhost:8080/"
    },
    "execution": {
     "iopub.execute_input": "2024-10-30T20:48:55.815305Z",
     "iopub.status.busy": "2024-10-30T20:48:55.815013Z",
     "iopub.status.idle": "2024-10-30T20:48:55.822337Z",
     "shell.execute_reply": "2024-10-30T20:48:55.821469Z",
     "shell.execute_reply.started": "2024-10-30T20:48:55.815252Z"
    },
    "id": "Esq3llsuRUQ7",
    "outputId": "aa7c2657-c934-475a-d208-3319feb535df",
    "trusted": true
   },
   "outputs": [],
   "source": [
    "manual_seed = 42\n",
    "torch.manual_seed(manual_seed)"
   ]
  },
  {
   "cell_type": "markdown",
   "metadata": {},
   "source": [
    "# Question 1 - 2"
   ]
  },
  {
   "cell_type": "code",
   "execution_count": null,
   "metadata": {
    "execution": {
     "iopub.execute_input": "2024-10-30T20:48:55.842722Z",
     "iopub.status.busy": "2024-10-30T20:48:55.842113Z",
     "iopub.status.idle": "2024-10-30T20:48:55.851140Z",
     "shell.execute_reply": "2024-10-30T20:48:55.848595Z",
     "shell.execute_reply.started": "2024-10-30T20:48:55.842685Z"
    },
    "id": "GcOb5cRYRUQ6",
    "trusted": true
   },
   "outputs": [],
   "source": [
    "def plot_distribution(y_train, y_test, classes):\n",
    "    train_counts = [y_train.count(i) for i in range(len(classes))]\n",
    "    test_counts = [y_test.count(i) for i in range(len(classes))]\n",
    "\n",
    "    x = np.arange(len(classes))\n",
    "    bar_width = 0.35\n",
    "\n",
    "    plt.bar(x - bar_width/2, train_counts, width=bar_width, label='Train')\n",
    "    plt.bar(x + bar_width/2, test_counts, width=bar_width, label='Test')\n",
    "\n",
    "    plt.xticks(x, classes)\n",
    "    plt.xlabel('Classes')\n",
    "    plt.ylabel('Frequency')\n",
    "    plt.legend()\n",
    "    plt.title('Distribution of Classes in Train and Test Sets')\n",
    "    plt.show()"
   ]
  },
  {
   "cell_type": "code",
   "execution_count": null,
   "metadata": {
    "execution": {
     "iopub.execute_input": "2024-10-30T20:48:55.881824Z",
     "iopub.status.busy": "2024-10-30T20:48:55.881133Z",
     "iopub.status.idle": "2024-10-30T20:48:55.885499Z",
     "shell.execute_reply": "2024-10-30T20:48:55.884621Z",
     "shell.execute_reply.started": "2024-10-30T20:48:55.881786Z"
    },
    "id": "rTSGRdCARUQ7",
    "trusted": true
   },
   "outputs": [],
   "source": [
    "# def imshow(img):\n",
    "#     img = img / 2 + 0.5     # unnormalize\n",
    "#     npimg = img.numpy()\n",
    "#     plt.imshow(np.transpose(npimg, (1, 2, 0)))\n",
    "#     plt.show()\n",
    "\n",
    "\n",
    "# # get some random training images\n",
    "# dataiter = iter(train_loader)\n",
    "# images, labels = next(dataiter)\n",
    "\n",
    "# # show images\n",
    "# imshow(torchvision.utils.make_grid(images))\n",
    "# # print labels\n",
    "# print(' '.join(f'{classes[labels[j]]:5s}' for j in range(batch_size)))"
   ]
  },
  {
   "cell_type": "code",
   "execution_count": null,
   "metadata": {
    "execution": {
     "iopub.execute_input": "2024-10-30T20:48:55.910300Z",
     "iopub.status.busy": "2024-10-30T20:48:55.909982Z",
     "iopub.status.idle": "2024-10-30T20:48:55.914403Z",
     "shell.execute_reply": "2024-10-30T20:48:55.913339Z",
     "shell.execute_reply.started": "2024-10-30T20:48:55.910244Z"
    },
    "id": "HRaHGmPlRUQ7",
    "trusted": true
   },
   "outputs": [],
   "source": [
    "# plot_distribution(trainset.targets, testset.targets, classes)"
   ]
  },
  {
   "cell_type": "markdown",
   "metadata": {},
   "source": [
    "# Question 3"
   ]
  },
  {
   "cell_type": "code",
   "execution_count": null,
   "metadata": {
    "colab": {
     "base_uri": "https://localhost:8080/"
    },
    "execution": {
     "iopub.execute_input": "2024-10-30T20:48:55.934452Z",
     "iopub.status.busy": "2024-10-30T20:48:55.933951Z",
     "iopub.status.idle": "2024-10-30T20:48:55.938440Z",
     "shell.execute_reply": "2024-10-30T20:48:55.937372Z",
     "shell.execute_reply.started": "2024-10-30T20:48:55.934418Z"
    },
    "id": "Mw-Emb0MRUQ7",
    "outputId": "1f44e239-f8a7-460e-9ae0-2ae088ebe032",
    "trusted": true
   },
   "outputs": [],
   "source": [
    "# dataset_train_not_tranformed = datasets.CIFAR10('.', train=True, download=True)"
   ]
  },
  {
   "cell_type": "code",
   "execution_count": null,
   "metadata": {
    "colab": {
     "base_uri": "https://localhost:8080/"
    },
    "execution": {
     "iopub.execute_input": "2024-10-30T20:48:55.963864Z",
     "iopub.status.busy": "2024-10-30T20:48:55.963107Z",
     "iopub.status.idle": "2024-10-30T20:48:55.967345Z",
     "shell.execute_reply": "2024-10-30T20:48:55.966577Z",
     "shell.execute_reply.started": "2024-10-30T20:48:55.963817Z"
    },
    "id": "nkz9gK57RUQ7",
    "outputId": "ba2b27a2-4081-42cc-cc4c-8f3b894c06b6",
    "trusted": true
   },
   "outputs": [],
   "source": [
    "# entry = dataset_train_not_tranformed[0]\n",
    "# print(\"Entry type:\", type(entry[0]))"
   ]
  },
  {
   "cell_type": "code",
   "execution_count": null,
   "metadata": {
    "colab": {
     "base_uri": "https://localhost:8080/"
    },
    "execution": {
     "iopub.execute_input": "2024-10-30T20:48:55.991415Z",
     "iopub.status.busy": "2024-10-30T20:48:55.990907Z",
     "iopub.status.idle": "2024-10-30T20:48:55.994797Z",
     "shell.execute_reply": "2024-10-30T20:48:55.993849Z",
     "shell.execute_reply.started": "2024-10-30T20:48:55.991382Z"
    },
    "id": "W_DN1wdcRUQ8",
    "outputId": "de2efff2-bfcb-4f2c-cb8c-a6ab786bd134",
    "trusted": true
   },
   "outputs": [],
   "source": [
    "# entry = trainset[0]\n",
    "# print(\"Entry type after transformation:\", type(entry[0]), \"Tensor shape:\", entry[0].shape, \"Class:\", entry[1])"
   ]
  },
  {
   "cell_type": "markdown",
   "metadata": {},
   "source": [
    "# Question 4 - 5"
   ]
  },
  {
   "cell_type": "code",
   "execution_count": null,
   "metadata": {
    "execution": {
     "iopub.execute_input": "2024-10-30T20:48:56.019527Z",
     "iopub.status.busy": "2024-10-30T20:48:56.019212Z",
     "iopub.status.idle": "2024-10-30T20:48:56.023748Z",
     "shell.execute_reply": "2024-10-30T20:48:56.022847Z",
     "shell.execute_reply.started": "2024-10-30T20:48:56.019496Z"
    },
    "trusted": true
   },
   "outputs": [],
   "source": [
    "transform = transforms.Compose([\n",
    "    transforms.ToTensor(),\n",
    "    transforms.Normalize(mean=0, std=1),\n",
    "])"
   ]
  },
  {
   "cell_type": "code",
   "execution_count": null,
   "metadata": {
    "colab": {
     "base_uri": "https://localhost:8080/"
    },
    "execution": {
     "iopub.execute_input": "2024-10-30T20:48:56.075540Z",
     "iopub.status.busy": "2024-10-30T20:48:56.075214Z",
     "iopub.status.idle": "2024-10-30T20:48:57.672519Z",
     "shell.execute_reply": "2024-10-30T20:48:57.671727Z",
     "shell.execute_reply.started": "2024-10-30T20:48:56.075507Z"
    },
    "id": "RG1EuvglRUQ7",
    "outputId": "b6dd1bf7-077a-42a6-ba3b-4f5c32734e68",
    "trusted": true
   },
   "outputs": [],
   "source": [
    "batch_size = 32\n",
    "\n",
    "trainset = torchvision.datasets.CIFAR10(root='./data', train=True, download=True, transform=transform)\n",
    "train_loader = torch.utils.data.DataLoader(trainset, batch_size=batch_size, shuffle=True, num_workers=2)\n",
    "\n",
    "testset = torchvision.datasets.CIFAR10(root='./data', train=False, download=True, transform=transform)\n",
    "test_loader = torch.utils.data.DataLoader(testset, batch_size=batch_size, shuffle=False, num_workers=2)\n",
    "\n",
    "dataset_validation, dataset_test = torch.utils.data.random_split(testset, [0.5, 0.5])\n",
    "validation_loader = torch.utils.data.DataLoader(dataset_validation, batch_size=batch_size, shuffle=True, num_workers=2)\n",
    "\n",
    "classes = ('plane', 'car', 'bird', 'cat', 'deer', 'dog', 'frog', 'horse', 'ship', 'truck')"
   ]
  },
  {
   "cell_type": "code",
   "execution_count": null,
   "metadata": {
    "execution": {
     "iopub.execute_input": "2024-10-30T20:48:57.674760Z",
     "iopub.status.busy": "2024-10-30T20:48:57.674348Z",
     "iopub.status.idle": "2024-10-30T20:48:57.681357Z",
     "shell.execute_reply": "2024-10-30T20:48:57.680269Z",
     "shell.execute_reply.started": "2024-10-30T20:48:57.674713Z"
    },
    "trusted": true
   },
   "outputs": [],
   "source": [
    "def out_dimensions(conv_layer, h_in, w_in):\n",
    "    '''\n",
    "    This function computes the output dimension of each convolutional layers in the most general way.\n",
    "    '''\n",
    "    h_out = floor((h_in + 2 * conv_layer.padding[0] - conv_layer.dilation[0] * (conv_layer.kernel_size[0] - 1) - 1) /\n",
    "                  conv_layer.stride[0] + 1)\n",
    "    w_out = floor((w_in + 2 * conv_layer.padding[1] - conv_layer.dilation[1] * (conv_layer.kernel_size[1] - 1) - 1) /\n",
    "                  conv_layer.stride[1] + 1)\n",
    "    return h_out, w_out"
   ]
  },
  {
   "cell_type": "markdown",
   "metadata": {},
   "source": [
    "# Question 6"
   ]
  },
  {
   "cell_type": "code",
   "execution_count": null,
   "metadata": {
    "execution": {
     "iopub.execute_input": "2024-10-30T20:48:57.683168Z",
     "iopub.status.busy": "2024-10-30T20:48:57.682852Z",
     "iopub.status.idle": "2024-10-30T20:48:57.696660Z",
     "shell.execute_reply": "2024-10-30T20:48:57.695830Z",
     "shell.execute_reply.started": "2024-10-30T20:48:57.683135Z"
    },
    "trusted": true
   },
   "outputs": [],
   "source": [
    "class CNN(nn.Module):\n",
    "    def __init__(self):\n",
    "        super(CNN, self).__init__()\n",
    "\n",
    "        # Initial dimensions for CIFAR-10\n",
    "        h_in, w_in = 32, 32\n",
    "\n",
    "        # First block: Conv - Conv - Activ - Pool\n",
    "        self.conv1 = nn.Conv2d(in_channels=3, out_channels=64, kernel_size=3)\n",
    "        h_in, w_in = out_dimensions(self.conv1, h_in, w_in)\n",
    "\n",
    "        self.conv2 = nn.Conv2d(in_channels=64, out_channels=128, kernel_size=3)\n",
    "        h_in, w_in = out_dimensions(self.conv2, h_in, w_in)\n",
    "\n",
    "        self.pool1 = nn.MaxPool2d(kernel_size=2)\n",
    "        h_in, w_in = h_in // 2, w_in // 2\n",
    "\n",
    "        # Second block: Conv - Conv - Activ - Pool\n",
    "        self.conv3 = nn.Conv2d(in_channels=128, out_channels=256, kernel_size=3)\n",
    "        h_in, w_in = out_dimensions(self.conv3, h_in, w_in)\n",
    "\n",
    "        self.conv4 = nn.Conv2d(in_channels=256, out_channels=512, kernel_size=3)\n",
    "        h_in, w_in = out_dimensions(self.conv4, h_in, w_in)\n",
    "\n",
    "        self.pool2 = nn.MaxPool2d(kernel_size=2)\n",
    "        h_in, w_in = h_in // 2, w_in // 2\n",
    "\n",
    "        # Store final dimensions\n",
    "        self.final_h = h_in\n",
    "        self.final_w = w_in\n",
    "        self.final_channels = 512\n",
    "\n",
    "        # Fully connected layer\n",
    "        self.fc1 = nn.Linear(self.final_channels * self.final_h * self.final_w, 32)\n",
    "        self.fc2 = nn.Linear(32, 16)\n",
    "        self.fc3 = nn.Linear(16, 10)\n",
    "\n",
    "        self.dimensions_final = (self.final_channels, h_in, w_in)\n",
    "\n",
    "    def forward(self, x):\n",
    "        # First block: Conv - Conv - Activ - Pool\n",
    "        x = self.conv1(x)\n",
    "        x = self.conv2(x)\n",
    "        x = F.gelu(x)\n",
    "        x = self.pool1(x)\n",
    "\n",
    "        # Second block: Conv - Conv - Activ - Pool\n",
    "        x = self.conv3(x)\n",
    "        x = self.conv4(x)\n",
    "        x = F.gelu(x)\n",
    "\n",
    "        x = self.pool2(x)\n",
    "\n",
    "        n_channels, h, w = self.dimensions_final\n",
    "        x = x.view(-1, n_channels * h * w)\n",
    "        x = self.fc1(x)\n",
    "        x = self.fc2(x)\n",
    "        x = self.fc3(x)\n",
    "\n",
    "        return x"
   ]
  },
  {
   "cell_type": "markdown",
   "metadata": {},
   "source": [
    "# Question 7"
   ]
  },
  {
   "cell_type": "code",
   "execution_count": null,
   "metadata": {
    "execution": {
     "iopub.execute_input": "2024-10-30T20:48:57.698974Z",
     "iopub.status.busy": "2024-10-30T20:48:57.698649Z",
     "iopub.status.idle": "2024-10-30T20:48:57.730554Z",
     "shell.execute_reply": "2024-10-30T20:48:57.729685Z",
     "shell.execute_reply.started": "2024-10-30T20:48:57.698940Z"
    },
    "trusted": true
   },
   "outputs": [],
   "source": [
    "model = CNN()\n",
    "learning_rate = 0.031\n",
    "first_model_epochs = 4\n",
    "\n",
    "optimizer = optim.SGD(model.parameters(), lr=learning_rate)\n",
    "loss_fn = nn.CrossEntropyLoss()\n",
    "\n",
    "DEVICE = torch.device('cuda' if torch.cuda.is_available() else 'mps'\n",
    "    if torch.backends.mps.is_available() else 'cpu')\n",
    "model = model.to(DEVICE)"
   ]
  },
  {
   "cell_type": "code",
   "execution_count": null,
   "metadata": {
    "execution": {
     "iopub.execute_input": "2024-10-30T20:48:57.732066Z",
     "iopub.status.busy": "2024-10-30T20:48:57.731713Z",
     "iopub.status.idle": "2024-10-30T20:48:57.743825Z",
     "shell.execute_reply": "2024-10-30T20:48:57.743004Z",
     "shell.execute_reply.started": "2024-10-30T20:48:57.732023Z"
    },
    "trusted": true
   },
   "outputs": [],
   "source": [
    "def train_model(model, n_epochs):\n",
    "    train_loss_list = []\n",
    "    validation_loss_list = []\n",
    "    for epoch in range(n_epochs):\n",
    "        loss_train = 0\n",
    "        for data, target in train_loader:\n",
    "            # Set the model in training mode\n",
    "            model.train()\n",
    "            data, target = data.to(DEVICE), target.to(DEVICE)\n",
    "            # Set the gradient to 0\n",
    "            optimizer.zero_grad()\n",
    "            # Make a prediction\n",
    "            output = model(data)\n",
    "            # Compute the loss function\n",
    "            loss = loss_fn(output, target)\n",
    "            loss_train += loss.item()\n",
    "            # Backpropagation\n",
    "            loss.backward()\n",
    "            # Update parameters\n",
    "            optimizer.step()\n",
    "        loss_train = loss_train / len(train_loader) # Consider this alternative method of tracking training loss.\n",
    "        train_loss_list.append(loss_train)\n",
    "\n",
    "        # At the end of every epoch, check the validation loss value\n",
    "        with torch.no_grad():\n",
    "            model.eval()\n",
    "            for data, target in validation_loader: # Just one batch\n",
    "                data, target = data.to(DEVICE), target.to(DEVICE)\n",
    "                # Make a prediction\n",
    "                output = model(data)\n",
    "                # Compute the loss function\n",
    "                validation_loss = loss_fn(output, target).item()\n",
    "        print(f\"Epoch {epoch + 1}: Train loss: {loss_train}, Validation loss {validation_loss}\")\n",
    "        validation_loss_list.append(validation_loss)\n",
    "        \n",
    "        with torch.no_grad():\n",
    "            n_correct = 0\n",
    "            n_samples = 0\n",
    "            for data, target in test_loader:\n",
    "                data, target = data.to(DEVICE), target.to(DEVICE)\n",
    "                outputs = model(data)\n",
    "                _, predicted = torch.max(outputs.data, 1)\n",
    "                n_samples += target.size(0)\n",
    "                n_correct += (predicted == target).sum().item()\n",
    "\n",
    "            acc = 100.0 * n_correct / n_samples\n",
    "        print(\"Accuracy on the test set:\", acc, \"%\")\n",
    "    return train_loss_list, validation_loss_list"
   ]
  },
  {
   "cell_type": "code",
   "execution_count": null,
   "metadata": {
    "execution": {
     "iopub.execute_input": "2024-10-30T20:48:57.746609Z",
     "iopub.status.busy": "2024-10-30T20:48:57.745977Z",
     "iopub.status.idle": "2024-10-30T20:50:08.964454Z",
     "shell.execute_reply": "2024-10-30T20:50:08.963323Z",
     "shell.execute_reply.started": "2024-10-30T20:48:57.746567Z"
    },
    "trusted": true
   },
   "outputs": [],
   "source": [
    "train_loss, validation_loss = train_model(model, first_model_epochs)"
   ]
  },
  {
   "cell_type": "markdown",
   "metadata": {},
   "source": [
    "# Question 8"
   ]
  },
  {
   "cell_type": "code",
   "execution_count": null,
   "metadata": {
    "colab": {
     "background_save": true
    },
    "execution": {
     "iopub.execute_input": "2024-10-30T20:50:08.967310Z",
     "iopub.status.busy": "2024-10-30T20:50:08.966363Z",
     "iopub.status.idle": "2024-10-30T20:50:09.247942Z",
     "shell.execute_reply": "2024-10-30T20:50:09.247067Z",
     "shell.execute_reply.started": "2024-10-30T20:50:08.967238Z"
    },
    "id": "Tqoi55sfRUQ8",
    "trusted": true
   },
   "outputs": [],
   "source": [
    "plt.figure()\n",
    "plt.plot(range(first_model_epochs), train_loss)\n",
    "plt.plot(range(first_model_epochs), validation_loss)\n",
    "plt.legend([\"Train loss\", \"Validation Loss\"])\n",
    "plt.xlabel(\"Epochs\")\n",
    "plt.ylabel(\"Loss value\")\n",
    "plt.show()"
   ]
  },
  {
   "cell_type": "markdown",
   "metadata": {},
   "source": [
    "# Question 9"
   ]
  },
  {
   "cell_type": "code",
   "execution_count": null,
   "metadata": {
    "execution": {
     "iopub.execute_input": "2024-10-30T20:50:09.249911Z",
     "iopub.status.busy": "2024-10-30T20:50:09.249522Z",
     "iopub.status.idle": "2024-10-30T20:50:09.269978Z",
     "shell.execute_reply": "2024-10-30T20:50:09.269036Z",
     "shell.execute_reply.started": "2024-10-30T20:50:09.249866Z"
    },
    "trusted": true
   },
   "outputs": [],
   "source": [
    "class CNNSuper(nn.Module):\n",
    "    def __init__(self):\n",
    "        super(CNNSuper, self).__init__()\n",
    "        # Initial dimensions for CIFAR-10\n",
    "        h_in, w_in = 32, 32\n",
    "\n",
    "        # First block: Conv - BatchNorm - Activ - Pool - Dropout\n",
    "        self.conv1 = nn.Conv2d(in_channels=3, out_channels=64, kernel_size=3, padding=1)\n",
    "        h_in, w_in = out_dimensions(self.conv1, h_in, w_in)\n",
    "        self.bn1 = nn.BatchNorm2d(64)\n",
    "        self.conv2 = nn.Conv2d(in_channels=64, out_channels=64, kernel_size=3, padding=1)\n",
    "        h_in, w_in = out_dimensions(self.conv2, h_in, w_in)\n",
    "        self.bn2 = nn.BatchNorm2d(64)\n",
    "        self.pool1 = nn.MaxPool2d(kernel_size=2)\n",
    "        h_in, w_in = h_in // 2, w_in // 2\n",
    "\n",
    "        # Second block: Conv - BatchNorm - Activ - Pool - Dropout\n",
    "        self.conv3 = nn.Conv2d(in_channels=64, out_channels=128, kernel_size=3, padding=1)\n",
    "        h_in, w_in = out_dimensions(self.conv3, h_in, w_in)\n",
    "        self.bn3 = nn.BatchNorm2d(128)\n",
    "        self.conv4 = nn.Conv2d(in_channels=128, out_channels=256, kernel_size=3, padding=1)\n",
    "        h_in, w_in = out_dimensions(self.conv4, h_in, w_in)\n",
    "        self.bn4 = nn.BatchNorm2d(256)\n",
    "        self.pool2 = nn.MaxPool2d(kernel_size=2)\n",
    "        h_in, w_in = h_in // 2, w_in // 2\n",
    "\n",
    "        # Third block: Conv - BatchNorm - Activ - Pool - Dropout\n",
    "        self.conv5 = nn.Conv2d(in_channels=256, out_channels=256, kernel_size=3, padding=1)\n",
    "        h_in, w_in = out_dimensions(self.conv5, h_in, w_in)\n",
    "        self.bn5 = nn.BatchNorm2d(256)\n",
    "        self.conv6 = nn.Conv2d(in_channels=256, out_channels=512, kernel_size=3, padding=1)\n",
    "        h_in, w_in = out_dimensions(self.conv6, h_in, w_in)\n",
    "        self.bn6 = nn.BatchNorm2d(512)\n",
    "        self.pool3 = nn.MaxPool2d(kernel_size=2)\n",
    "        h_in, w_in = h_in // 2, w_in // 2\n",
    "\n",
    "        # Store final dimensions\n",
    "        self.final_h = h_in\n",
    "        self.final_w = w_in\n",
    "        self.final_channels = 512\n",
    "\n",
    "        # Fully connected layers\n",
    "        self.fc1 = nn.Linear(self.final_channels * self.final_h * self.final_w, 128)\n",
    "        self.bn7 = nn.BatchNorm1d(128)\n",
    "        self.fc2 = nn.Linear(128, 64)\n",
    "        self.bn8 = nn.BatchNorm1d(64)\n",
    "        self.fc3 = nn.Linear(64, 10)\n",
    "\n",
    "        self.weak_dropout = nn.Dropout(0.2)\n",
    "        self.strong_dropout = nn.Dropout(0.35)\n",
    "\n",
    "    def forward(self, x):\n",
    "        # First block: Conv - BatchNorm - Activ - Pool - Dropout\n",
    "        x = self.conv1(x)\n",
    "        x = self.bn1(x)\n",
    "        x = F.gelu(x)\n",
    "        x = self.conv2(x)\n",
    "        x = self.bn2(x)\n",
    "        x = F.gelu(x)\n",
    "        x = self.pool1(x)\n",
    "        x = self.weak_dropout(x)\n",
    "\n",
    "        # Second block: Conv - BatchNorm - Activ - Pool - Dropout\n",
    "        x = self.conv3(x)\n",
    "        x = self.bn3(x)\n",
    "        x = F.gelu(x)\n",
    "        x = self.conv4(x)\n",
    "        x = self.bn4(x)\n",
    "        x = F.gelu(x)\n",
    "        x = self.pool2(x)\n",
    "        x = self.weak_dropout(x)\n",
    "\n",
    "        # Third block: Conv - BatchNorm - Activ - Pool - Dropout\n",
    "        x = self.conv5(x)\n",
    "        x = self.bn5(x)\n",
    "        x = F.gelu(x)\n",
    "        x = self.conv6(x)\n",
    "        x = self.bn6(x)\n",
    "        x = F.gelu(x)\n",
    "        x = self.pool3(x)\n",
    "        x = self.weak_dropout(x)\n",
    "\n",
    "        x = x.view(-1, self.final_channels * self.final_h * self.final_w)\n",
    "        x = self.fc1(x)\n",
    "        x = self.bn7(x)\n",
    "        x = F.gelu(x)\n",
    "        x = self.strong_dropout(x)\n",
    "        x = self.fc2(x)\n",
    "        x = self.bn8(x)\n",
    "        x = F.gelu(x)\n",
    "        x = self.strong_dropout(x)\n",
    "        x = self.fc3(x)\n",
    "        return x"
   ]
  },
  {
   "cell_type": "code",
   "execution_count": null,
   "metadata": {
    "execution": {
     "iopub.execute_input": "2024-10-30T20:50:09.271496Z",
     "iopub.status.busy": "2024-10-30T20:50:09.271170Z",
     "iopub.status.idle": "2024-10-30T20:50:10.857481Z",
     "shell.execute_reply": "2024-10-30T20:50:10.856475Z",
     "shell.execute_reply.started": "2024-10-30T20:50:09.271463Z"
    },
    "trusted": true
   },
   "outputs": [],
   "source": [
    "train_transform = transforms.Compose([\n",
    "    transforms.RandomHorizontalFlip(),\n",
    "    transforms.RandomRotation(20),  \n",
    "    transforms.ToTensor(),\n",
    "    transforms.Normalize(mean=0, std=1),\n",
    "])\n",
    "\n",
    "test_transform = transforms.Compose([\n",
    "    transforms.ToTensor(),\n",
    "    transforms.Normalize(mean=0, std=1),\n",
    "])\n",
    "\n",
    "batch_size = 40\n",
    "\n",
    "trainset = torchvision.datasets.CIFAR10(root='./data', train=True, download=True, transform=train_transform)\n",
    "train_loader = torch.utils.data.DataLoader(trainset, batch_size=batch_size, shuffle=True, num_workers=2)\n",
    "\n",
    "testset = torchvision.datasets.CIFAR10(root='./data', train=False, download=True, transform=test_transform)\n",
    "test_loader = torch.utils.data.DataLoader(testset, batch_size=batch_size, shuffle=False, num_workers=2)\n",
    "\n",
    "dataset_validation, dataset_test = torch.utils.data.random_split(testset, [0.5, 0.5])\n",
    "validation_loader = torch.utils.data.DataLoader(dataset_validation, batch_size=batch_size, shuffle=True, num_workers=2)\n",
    "\n",
    "classes = ('plane', 'car', 'bird', 'cat', 'deer', 'dog', 'frog', 'horse', 'ship', 'truck')"
   ]
  },
  {
   "cell_type": "code",
   "execution_count": null,
   "metadata": {
    "execution": {
     "iopub.execute_input": "2024-10-30T20:50:10.860635Z",
     "iopub.status.busy": "2024-10-30T20:50:10.860291Z",
     "iopub.status.idle": "2024-10-30T20:50:10.899988Z",
     "shell.execute_reply": "2024-10-30T20:50:10.899240Z",
     "shell.execute_reply.started": "2024-10-30T20:50:10.860583Z"
    },
    "trusted": true
   },
   "outputs": [],
   "source": [
    "model = CNNSuper()\n",
    "learning_rate = 0.031\n",
    "second_model_epochs = 10\n",
    "\n",
    "optimizer = optim.SGD(model.parameters(), lr=learning_rate, weight_decay=2e-4)\n",
    "loss_fn = nn.CrossEntropyLoss()\n",
    "\n",
    "model = model.to(DEVICE)"
   ]
  },
  {
   "cell_type": "code",
   "execution_count": null,
   "metadata": {
    "execution": {
     "iopub.execute_input": "2024-10-30T20:50:10.901376Z",
     "iopub.status.busy": "2024-10-30T20:50:10.900997Z",
     "iopub.status.idle": "2024-10-30T20:53:38.453286Z",
     "shell.execute_reply": "2024-10-30T20:53:38.452148Z",
     "shell.execute_reply.started": "2024-10-30T20:50:10.901328Z"
    },
    "trusted": true
   },
   "outputs": [],
   "source": [
    "train_loss, validation_loss = train_model(model, second_model_epochs)"
   ]
  },
  {
   "cell_type": "code",
   "execution_count": null,
   "metadata": {
    "execution": {
     "iopub.execute_input": "2024-10-30T20:53:38.455623Z",
     "iopub.status.busy": "2024-10-30T20:53:38.455151Z",
     "iopub.status.idle": "2024-10-30T20:53:38.716661Z",
     "shell.execute_reply": "2024-10-30T20:53:38.715729Z",
     "shell.execute_reply.started": "2024-10-30T20:53:38.455560Z"
    },
    "trusted": true
   },
   "outputs": [],
   "source": [
    "plt.figure()\n",
    "plt.plot(range(second_model_epochs), train_loss)\n",
    "plt.plot(range(second_model_epochs), validation_loss)\n",
    "plt.legend([\"Train loss\", \"Validation Loss\"])\n",
    "plt.xlabel(\"Epochs\")\n",
    "plt.ylabel(\"Loss value\")\n",
    "plt.show()"
   ]
  },
  {
   "cell_type": "code",
   "execution_count": null,
   "metadata": {
    "execution": {
     "iopub.execute_input": "2024-10-30T20:53:38.718178Z",
     "iopub.status.busy": "2024-10-30T20:53:38.717869Z",
     "iopub.status.idle": "2024-10-30T20:54:22.773149Z",
     "shell.execute_reply": "2024-10-30T20:54:22.771835Z",
     "shell.execute_reply.started": "2024-10-30T20:53:38.718143Z"
    },
    "trusted": true
   },
   "outputs": [],
   "source": [
    "for seed in range(5,10):\n",
    "    torch.manual_seed(seed)\n",
    "    print(\"Seed equal to \", torch.random.initial_seed())\n",
    "    model = CNN()\n",
    "    learning_rate = 0.031\n",
    "    optimizer = optim.SGD(model.parameters(), lr=learning_rate)\n",
    "    loss_fn = nn.CrossEntropyLoss()\n",
    "\n",
    "    DEVICE = torch.device('cuda' if torch.cuda.is_available() else 'mps'\n",
    "        if torch.backends.mps.is_available() else 'cpu')\n",
    "    model = model.to(DEVICE)\n",
    "    \n",
    "    train_loss, validation_loss = train_model(model, first_model_epochs)"
   ]
  }
 ],
 "metadata": {
  "accelerator": "GPU",
  "colab": {
   "gpuType": "T4",
   "provenance": []
  },
  "kaggle": {
   "accelerator": "nvidiaTeslaT4",
   "dataSources": [],
   "dockerImageVersionId": 30787,
   "isGpuEnabled": true,
   "isInternetEnabled": true,
   "language": "python",
   "sourceType": "notebook"
  },
  "kernelspec": {
   "display_name": "Python 3",
   "language": "python",
   "name": "python3"
  },
  "language_info": {
   "codemirror_mode": {
    "name": "ipython",
    "version": 3
   },
   "file_extension": ".py",
   "mimetype": "text/x-python",
   "name": "python",
   "nbconvert_exporter": "python",
   "pygments_lexer": "ipython3",
   "version": "3.10.14"
  }
 },
 "nbformat": 4,
 "nbformat_minor": 4
}
